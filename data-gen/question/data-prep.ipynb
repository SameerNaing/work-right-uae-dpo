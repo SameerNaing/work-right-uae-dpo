{
 "cells": [
  {
   "cell_type": "code",
   "execution_count": 2,
   "id": "479598b8",
   "metadata": {},
   "outputs": [],
   "source": [
    "import pandas as pd\n",
    "\n",
    "from uuid import uuid4\n",
    "import chromadb\n",
    "\n",
    "from langchain_ollama import OllamaEmbeddings\n",
    "from langchain_chroma import Chroma\n"
   ]
  },
  {
   "cell_type": "code",
   "execution_count": 3,
   "id": "55904b30",
   "metadata": {},
   "outputs": [],
   "source": [
    "df = pd.read_csv(\"../../data/rag-data.csv\")"
   ]
  },
  {
   "cell_type": "code",
   "execution_count": 17,
   "id": "7d1e81c8",
   "metadata": {},
   "outputs": [],
   "source": [
    "client = chromadb.PersistentClient(path=\"../../chroma_store\")\n",
    "collection_name=\"wr-uae\"\n",
    "collection = client.get_or_create_collection(collection_name)\n",
    "embed_model = OllamaEmbeddings(model=\"nomic-embed-text:v1.5\")\n",
    "vector_store = Chroma(\n",
    "    collection_name=collection_name,\n",
    "    embedding_function=embed_model,\n",
    "    client=client\n",
    ")"
   ]
  },
  {
   "cell_type": "code",
   "execution_count": 18,
   "id": "7780a841",
   "metadata": {},
   "outputs": [],
   "source": [
    "def find_relevant(query: str, filter: str | None = None, k: int = 5) -> str:\n",
    "    \"\"\"Search the vector store and return a compact RESULTS list plus a CONTEXT block.\"\"\"\n",
    "   \n",
    "    hits = vector_store.similarity_search(query, k=k, filter=filter)\n",
    "    \n",
    "    return [{\"category\": d.metadata['category'], \"content\": d.page_content} for d in hits]"
   ]
  },
  {
   "cell_type": "code",
   "execution_count": 28,
   "id": "9da9bfee",
   "metadata": {},
   "outputs": [
    {
     "name": "stdout",
     "output_type": "stream",
     "text": [
      "[{'category': 'wage-protection', 'content': 'This is not an official Translation \\nMINISTERIAL RESOLUTION NO.(598) OF 2022 CONCERNING THE WAGES \\nPROTECTION SYSTEM \\n \\nThe Minister of Human Resources & Emiratisation \\nHaving perused:   \\n\\uf0a7 Federal Law No.(1) of 1972 on the competencies of the Ministries and Powers of \\nthe Ministers and amendments thereof, \\n\\uf0a7 Federal Decree-Law No. (33) of 2021 concerning Regulation of Labor Relations \\nand its Executive Regulations and its executive regulations issued pursuant to \\nCabinet Resolution No. (1) of 2022  \\n\\uf0a7 Cabinet Resolution No. (21) of 2020 concerning service fees and administrative \\nfines at the Ministry of Human Resources and Emiratisation \\n\\uf0a7 Ministerial Resolution No. (43) of 2022 concerning the Wages Protection System \\n\\uf0a7 Ministerial Resolution No. (346) of 2022 concerning the amendment of certain \\nprovisions of Ministerial Resolution No. (43) of 2022 concerning the Wages \\nProtection System \\n\\uf0a7 Ministerial Resolution No. (209) of 2022 concerning the classification of \\nestablishments under the third category \\n\\uf0a7 In pursuance of public interest \\n \\nHas Resolved: \\nArticle (1) \\n1. In accordance with Article 16 of the Executive Regulations of the Federal \\nDecree-Law No. 33 of 2021 referred to above, all establishments registered \\nwith the Ministry are required to pay their employees’ wages on the due date. \\nDepending on the system in place, this could be accomplished through the \\nWages Protection System, or through any other system approved by the \\nMinistry. Employees shall receive their wages on the first day of the month \\nfollowing the registered payday specified in the Employment Contract. A \\nwage shall be paid at least once per month, if no such date is specified therein. \\n \\nThis is not an official Translation \\n2. Employers who fail to pay wages to their employees within 15 days of the due \\ndate will be considered late, unless the Employment Contract provides \\notherwise. \\n \\n3. Establishments must provide and submit all documentation required to prove \\nthe payment of wages. \\n \\nArticle (2)'}, {'category': 'wage-protection', 'content': \"with \\nthe \\naforementioned \\nMinisterial \\nResolution \\nNo.(209) of 2022. \\n \\nArticle (3) \\nThis is without prejudice to the right of all employees to receive their agreed wages:  \\n1. The establishment is considered compliant with wage payment requirements \\nif more than 80 percent of the total wages of eligible employees are \\ntransferred according to their type of employment. \\n2. If a legal deduction has been made, the Employee is deemed to be a recipient \\nof wage if 80 percent or more of the registered wage has been received, \\nprovided that evidence of such deduction is provided upon request. \\n \\nArticle (4) \\nThis is not an official Translation \\nAn Employer who grants a leave without pay to an employee must notify the \\nMinistry in accordance with the appropriate channels and procedures, stating the \\nduration of the leave. \\nArticle (5) \\nWages Protection System (WPS) compliance requirements are not applicable to the \\nfollowing categories of employees: \\n1. Employees with wage-related labor complaints referred to the judiciary \\n2. Reported absconding employees \\n3. New employees, within thirty (30) days of the due date \\n4. Employees who receive unpaid leave during their leave period shall be \\nexempt from this requirement, provided that supporting documentation is \\nsubmitted to the Ministry. \\n5. Sailors working on board ships. Employers are responsible for submitting an \\napplication to the Ministry.  \\n6. Foreign employees receiving wages outside of the country while working in \\nforeign establishments or branches within the country, provided that the \\nemployee's consent has been obtained and that the employer has submitted \\nan application to the Ministry. \\nArticle (6) \\nThe following establishments are excluded from the Wage Protection System (WPS) \\nrequirements:  \\n1. Fishing boats owned by nationals \\n2. Public taxis owned by nationals \\n3. Banks \\n4. Houses of worship (religious institutions) \\nArticle (7) \\nA guide containing the procedures for implementing the provisions of this\"}, {'category': 'wage-protection', 'content': \"otherwise. \\n \\n3. Establishments must provide and submit all documentation required to prove \\nthe payment of wages. \\n \\nArticle (2) \\nEstablishments in default of paying their employees' wages will be subject to the \\nfollowing actions: \\nDeadline \\nTargeted \\nEstablishments  \\nAction \\n1. By the due date \\n \\n \\n \\n \\nAll establishments \\n\\uf0b7 Electronic monitoring will be \\nperformed on establishments \\nto ensure compliance with the \\npayment of wages. \\n2. In the third and \\ntenth days following \\nthe due date \\n\\uf0b7 Reminders and notifications \\nwill be sent to defaulting \\nestablishments in regards to \\nthe payment of wages. \\n \\n3. By the Seventeenth \\nday after the due \\ndate \\n \\nAll establishments \\n\\uf0b7 Issuance of new work permits \\nfor \\nthe \\nestablishment \\nis \\nsuspended. \\nA \\nnotification \\nexplaining the reasons for the \\nsuspension will be sent to the \\nemployer. \\n \\n \\nEstablishment \\nemploying more than 50 \\nemployees \\n\\uf0b7 Defaulting establishments will \\nbe listed in the Electronic \\nMonitoring \\nand \\nInspection \\nSystem and inspections will \\nbe scheduled. An inspector \\nwill conduct inspections and \\nissue warnings as necessary \\n \\n \\n \\n\\uf0b7 In addition to notifying the \\nThis is not an official Translation \\n4. 45 days after the \\ndue date \\nEstablishment \\nemploying more than 50 \\nemployees \\n \\npublic \\nprosecutor, \\nthe \\nestablishment details will be \\nforwarded to the competent \\nauthorities at the federal and \\nlocal levels in order to pursue \\nlegal action as appropriate. \\nThe concerned department \\nwithin the Ministry will follow \\nup on these actions. \\n5. In the event that \\nthe \\nestablishment \\ncommits \\nthe \\nviolation \\nagain \\nwithin six months \\n \\nEstablishments with \\nwage-related labor \\ncomplaints referred to \\nthe judiciary \\n \\n\\uf0b7 Consequently, the following \\nactions will be taken: \\n\\uf0b7 According \\nto \\nCabinet \\nResolution No. (21) of 2020, \\nan administrative fine will be \\nimposed. \\n\\uf0b7 Reclassify the establishment \\nto category (3) in accordance \\nwith \\nthe \\naforementioned \\nMinisterial \\nResolution \\nNo.(209) of 2022. \\n \\nArticle (3)\"}, {'category': 'wage-protection', 'content': '2. Public taxis owned by nationals \\n3. Banks \\n4. Houses of worship (religious institutions) \\nArticle (7) \\nA guide containing the procedures for implementing the provisions of this \\nresolution shall be issued by the Undersecretary for Human Resources Affairs. \\n \\nArticle (8) \\nThis is not an official Translation \\nMinisterial Resolutions No.(43) and (346) of 2022 referred to are hereby repealed , \\nin addition to any provisions inconsistent with those contained in this resolution. \\nArticle (9) \\nThis resolution shall be published in the Official Gazette and shall come into force \\nfrom the date of its issuance. \\n \\n \\nDr. Abdul Rahman Abdul Manan Al Awar \\nMinister of Human Resources and Emiratisation \\nSignature and seal appear  \\n \\n \\nIssued by us on: 25th of November 2022'}, {'category': 'wage-protection', 'content': 'an administrative fine will be \\nimposed. \\n\\uf0b7 Reclassify the establishment \\nto category (3) in accordance \\nwith \\nthe \\naforementioned \\nMinisterial \\nResolution \\nNo.(209) of 2022. \\n \\nArticle (3) \\nThis is without prejudice to the right of all employees to receive their agreed wages:'}]\n"
     ]
    }
   ],
   "source": [
    "cat = \"wage-protection\"\n",
    "\n",
    "for _, row in df[df[\"category\"] == cat].iterrows():\n",
    "    sim = find_relevant(row['chunk'], filter={\"category\": cat}, k=13)\n",
    "    print(sim)\n",
    "    break"
   ]
  },
  {
   "cell_type": "code",
   "execution_count": 29,
   "id": "d83253a2",
   "metadata": {},
   "outputs": [
    {
     "name": "stdout",
     "output_type": "stream",
     "text": [
      "{'category': 'wage-protection', 'content': 'This is not an official Translation \\nMINISTERIAL RESOLUTION NO.(598) OF 2022 CONCERNING THE WAGES \\nPROTECTION SYSTEM \\n \\nThe Minister of Human Resources & Emiratisation \\nHaving perused:   \\n\\uf0a7 Federal Law No.(1) of 1972 on the competencies of the Ministries and Powers of \\nthe Ministers and amendments thereof, \\n\\uf0a7 Federal Decree-Law No. (33) of 2021 concerning Regulation of Labor Relations \\nand its Executive Regulations and its executive regulations issued pursuant to \\nCabinet Resolution No. (1) of 2022  \\n\\uf0a7 Cabinet Resolution No. (21) of 2020 concerning service fees and administrative \\nfines at the Ministry of Human Resources and Emiratisation \\n\\uf0a7 Ministerial Resolution No. (43) of 2022 concerning the Wages Protection System \\n\\uf0a7 Ministerial Resolution No. (346) of 2022 concerning the amendment of certain \\nprovisions of Ministerial Resolution No. (43) of 2022 concerning the Wages \\nProtection System \\n\\uf0a7 Ministerial Resolution No. (209) of 2022 concerning the classification of \\nestablishments under the third category \\n\\uf0a7 In pursuance of public interest \\n \\nHas Resolved: \\nArticle (1) \\n1. In accordance with Article 16 of the Executive Regulations of the Federal \\nDecree-Law No. 33 of 2021 referred to above, all establishments registered \\nwith the Ministry are required to pay their employees’ wages on the due date. \\nDepending on the system in place, this could be accomplished through the \\nWages Protection System, or through any other system approved by the \\nMinistry. Employees shall receive their wages on the first day of the month \\nfollowing the registered payday specified in the Employment Contract. A \\nwage shall be paid at least once per month, if no such date is specified therein. \\n \\nThis is not an official Translation \\n2. Employers who fail to pay wages to their employees within 15 days of the due \\ndate will be considered late, unless the Employment Contract provides \\notherwise. \\n \\n3. Establishments must provide and submit all documentation required to prove \\nthe payment of wages. \\n \\nArticle (2)'}\n",
      "{'category': 'wage-protection', 'content': \"with \\nthe \\naforementioned \\nMinisterial \\nResolution \\nNo.(209) of 2022. \\n \\nArticle (3) \\nThis is without prejudice to the right of all employees to receive their agreed wages:  \\n1. The establishment is considered compliant with wage payment requirements \\nif more than 80 percent of the total wages of eligible employees are \\ntransferred according to their type of employment. \\n2. If a legal deduction has been made, the Employee is deemed to be a recipient \\nof wage if 80 percent or more of the registered wage has been received, \\nprovided that evidence of such deduction is provided upon request. \\n \\nArticle (4) \\nThis is not an official Translation \\nAn Employer who grants a leave without pay to an employee must notify the \\nMinistry in accordance with the appropriate channels and procedures, stating the \\nduration of the leave. \\nArticle (5) \\nWages Protection System (WPS) compliance requirements are not applicable to the \\nfollowing categories of employees: \\n1. Employees with wage-related labor complaints referred to the judiciary \\n2. Reported absconding employees \\n3. New employees, within thirty (30) days of the due date \\n4. Employees who receive unpaid leave during their leave period shall be \\nexempt from this requirement, provided that supporting documentation is \\nsubmitted to the Ministry. \\n5. Sailors working on board ships. Employers are responsible for submitting an \\napplication to the Ministry.  \\n6. Foreign employees receiving wages outside of the country while working in \\nforeign establishments or branches within the country, provided that the \\nemployee's consent has been obtained and that the employer has submitted \\nan application to the Ministry. \\nArticle (6) \\nThe following establishments are excluded from the Wage Protection System (WPS) \\nrequirements:  \\n1. Fishing boats owned by nationals \\n2. Public taxis owned by nationals \\n3. Banks \\n4. Houses of worship (religious institutions) \\nArticle (7) \\nA guide containing the procedures for implementing the provisions of this\"}\n",
      "{'category': 'wage-protection', 'content': \"otherwise. \\n \\n3. Establishments must provide and submit all documentation required to prove \\nthe payment of wages. \\n \\nArticle (2) \\nEstablishments in default of paying their employees' wages will be subject to the \\nfollowing actions: \\nDeadline \\nTargeted \\nEstablishments  \\nAction \\n1. By the due date \\n \\n \\n \\n \\nAll establishments \\n\\uf0b7 Electronic monitoring will be \\nperformed on establishments \\nto ensure compliance with the \\npayment of wages. \\n2. In the third and \\ntenth days following \\nthe due date \\n\\uf0b7 Reminders and notifications \\nwill be sent to defaulting \\nestablishments in regards to \\nthe payment of wages. \\n \\n3. By the Seventeenth \\nday after the due \\ndate \\n \\nAll establishments \\n\\uf0b7 Issuance of new work permits \\nfor \\nthe \\nestablishment \\nis \\nsuspended. \\nA \\nnotification \\nexplaining the reasons for the \\nsuspension will be sent to the \\nemployer. \\n \\n \\nEstablishment \\nemploying more than 50 \\nemployees \\n\\uf0b7 Defaulting establishments will \\nbe listed in the Electronic \\nMonitoring \\nand \\nInspection \\nSystem and inspections will \\nbe scheduled. An inspector \\nwill conduct inspections and \\nissue warnings as necessary \\n \\n \\n \\n\\uf0b7 In addition to notifying the \\nThis is not an official Translation \\n4. 45 days after the \\ndue date \\nEstablishment \\nemploying more than 50 \\nemployees \\n \\npublic \\nprosecutor, \\nthe \\nestablishment details will be \\nforwarded to the competent \\nauthorities at the federal and \\nlocal levels in order to pursue \\nlegal action as appropriate. \\nThe concerned department \\nwithin the Ministry will follow \\nup on these actions. \\n5. In the event that \\nthe \\nestablishment \\ncommits \\nthe \\nviolation \\nagain \\nwithin six months \\n \\nEstablishments with \\nwage-related labor \\ncomplaints referred to \\nthe judiciary \\n \\n\\uf0b7 Consequently, the following \\nactions will be taken: \\n\\uf0b7 According \\nto \\nCabinet \\nResolution No. (21) of 2020, \\nan administrative fine will be \\nimposed. \\n\\uf0b7 Reclassify the establishment \\nto category (3) in accordance \\nwith \\nthe \\naforementioned \\nMinisterial \\nResolution \\nNo.(209) of 2022. \\n \\nArticle (3)\"}\n",
      "{'category': 'wage-protection', 'content': '2. Public taxis owned by nationals \\n3. Banks \\n4. Houses of worship (religious institutions) \\nArticle (7) \\nA guide containing the procedures for implementing the provisions of this \\nresolution shall be issued by the Undersecretary for Human Resources Affairs. \\n \\nArticle (8) \\nThis is not an official Translation \\nMinisterial Resolutions No.(43) and (346) of 2022 referred to are hereby repealed , \\nin addition to any provisions inconsistent with those contained in this resolution. \\nArticle (9) \\nThis resolution shall be published in the Official Gazette and shall come into force \\nfrom the date of its issuance. \\n \\n \\nDr. Abdul Rahman Abdul Manan Al Awar \\nMinister of Human Resources and Emiratisation \\nSignature and seal appear  \\n \\n \\nIssued by us on: 25th of November 2022'}\n",
      "{'category': 'wage-protection', 'content': 'an administrative fine will be \\nimposed. \\n\\uf0b7 Reclassify the establishment \\nto category (3) in accordance \\nwith \\nthe \\naforementioned \\nMinisterial \\nResolution \\nNo.(209) of 2022. \\n \\nArticle (3) \\nThis is without prejudice to the right of all employees to receive their agreed wages:'}\n"
     ]
    }
   ],
   "source": [
    "for s in sim:\n",
    "    print(s)"
   ]
  },
  {
   "cell_type": "code",
   "execution_count": null,
   "id": "52971593",
   "metadata": {},
   "outputs": [],
   "source": []
  },
  {
   "cell_type": "code",
   "execution_count": null,
   "id": "77c422e7",
   "metadata": {},
   "outputs": [],
   "source": []
  },
  {
   "cell_type": "code",
   "execution_count": null,
   "id": "28290321",
   "metadata": {},
   "outputs": [],
   "source": [
    "def prep_docs(ret_data):\n",
    "    return \"\\n\\n\".join([f\"**Document : {idx+1}, Document Category: `{doc['category']}`**\\n\" + doc[\"content\"] for idx, doc in enumerate(ret_data)])\n",
    "    \n",
    "\n",
    "def get_gen_docs():\n",
    "    global df \n",
    "    \n",
    "    categories = df[\"category\"].unique().tolist()\n",
    "    main_docs = {}\n",
    "\n",
    "\n",
    "    for c in categories:\n",
    "        sample_df = df[df[\"category\"] == c].sample(n=5, random_state=42)\n",
    "        main_docs[c] = sample_df.index.tolist()\n",
    "        \n",
    "        \n",
    "    df_data = []\n",
    "\n",
    "    for key, val in main_docs.items():\n",
    "        docs = df.iloc[val][\"chunk\"].tolist()\n",
    "        \n",
    "        for d in docs: \n",
    "            sim_docs = find_relevant(d, filter={\"category\": key}, k=13)\n",
    "            sim_docs = sim_docs[1:]\n",
    "            diff_docs = find_relevant(d, filter={\"category\": {\"$ne\": key}}, k=12)\n",
    "            for i in range(0, 12, 4):\n",
    "                sim_d = prep_docs(sim_docs[i:i+1])\n",
    "                diff_d = prep_docs(diff_docs[i:i+1])\n",
    "                original_doc = prep_docs([{\"category\": key, \"content\": d}])\n",
    "                df_data += [{\n",
    "                    \"id\": str(uuid4()),\n",
    "                    \"doc\": original_doc + sim_d\n",
    "                }, \n",
    "                 {\n",
    "                    \"id\": str(uuid4()), \n",
    "                    \"doc\": original_doc + diff_d\n",
    "                 }\n",
    "                                 \n",
    "                ]\n",
    "    return pd.DataFrame(df_data)\n",
    "    "
   ]
  },
  {
   "cell_type": "code",
   "execution_count": 11,
   "id": "0fb4b950",
   "metadata": {},
   "outputs": [],
   "source": [
    "gen_doc_data = get_gen_docs()\n"
   ]
  },
  {
   "cell_type": "code",
   "execution_count": 13,
   "id": "d417e2a1",
   "metadata": {},
   "outputs": [],
   "source": [
    "gen_doc_data.to_csv(\"./data/doc_data.csv\", index=False)"
   ]
  },
  {
   "cell_type": "code",
   "execution_count": null,
   "id": "bc7da4fa",
   "metadata": {},
   "outputs": [],
   "source": []
  },
  {
   "cell_type": "code",
   "execution_count": null,
   "metadata": {},
   "outputs": [],
   "source": []
  },
  {
   "cell_type": "code",
   "execution_count": null,
   "id": "00e1bd57",
   "metadata": {},
   "outputs": [],
   "source": []
  }
 ],
 "metadata": {
  "kernelspec": {
   "display_name": "work-right-uae-dpo",
   "language": "python",
   "name": "python3"
  },
  "language_info": {
   "codemirror_mode": {
    "name": "ipython",
    "version": 3
   },
   "file_extension": ".py",
   "mimetype": "text/x-python",
   "name": "python",
   "nbconvert_exporter": "python",
   "pygments_lexer": "ipython3",
   "version": "3.12.11"
  }
 },
 "nbformat": 4,
 "nbformat_minor": 5
}
