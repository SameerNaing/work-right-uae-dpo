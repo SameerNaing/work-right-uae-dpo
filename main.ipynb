{
 "cells": [
  {
   "cell_type": "code",
   "execution_count": 1,
   "id": "516143db",
   "metadata": {},
   "outputs": [],
   "source": [
    "from typing import Optional, Literal\n",
    "from pydantic import BaseModel, Field\n",
    "\n",
    "import os\n",
    "import fitz\n",
    "import pandas as pd\n",
    "from llama_index.core.program import LLMTextCompletionProgram\n",
    "from pydantic import BaseModel\n",
    "from llama_index.llms.ollama import Ollama\n",
    "\n",
    "from typing_extensions import Literal as LiteralExt \n",
    "\n",
    "from langchain_ollama import OllamaEmbeddings\n",
    "from langchain_text_splitters import MarkdownTextSplitter, RecursiveCharacterTextSplitter\n",
    "from llama_index.vector_stores.chroma import ChromaVectorStore\n",
    "\n",
    "\n",
    "from uuid import uuid4\n",
    "\n",
    "import chromadb\n",
    "from langchain_chroma import Chroma\n",
    "from langchain_core.documents import Document\n",
    "from langchain_core.tools import tool\n",
    "\n",
    "from langchain.agents import AgentExecutor, create_react_agent\n",
    "from langchain import hub\n"
   ]
  },
  {
   "cell_type": "code",
   "execution_count": 6,
   "id": "a5c00e26",
   "metadata": {},
   "outputs": [],
   "source": [
    "prompt = hub.pull(\"hwchase17/react\")\n"
   ]
  },
  {
   "cell_type": "code",
   "execution_count": 9,
   "id": "0b7aa812",
   "metadata": {},
   "outputs": [
    {
     "name": "stdout",
     "output_type": "stream",
     "text": [
      "Answer the following questions as best you can. You have access to the following tools:\n",
      "\n",
      "{tools}\n",
      "\n",
      "Use the following format:\n",
      "\n",
      "Question: the input question you must answer\n",
      "Thought: you should always think about what to do\n",
      "Action: the action to take, should be one of [{tool_names}]\n",
      "Action Input: the input to the action\n",
      "Observation: the result of the action\n",
      "... (this Thought/Action/Action Input/Observation can repeat N times)\n",
      "Thought: I now know the final answer\n",
      "Final Answer: the final answer to the original input question\n",
      "\n",
      "Begin!\n",
      "\n",
      "Question: {input}\n",
      "Thought:{agent_scratchpad}\n"
     ]
    }
   ],
   "source": [
    "print(prompt.template)"
   ]
  },
  {
   "cell_type": "code",
   "execution_count": 2,
   "id": "407974d1",
   "metadata": {},
   "outputs": [],
   "source": [
    "df = pd.read_csv(\"./data/rag-data.csv\")"
   ]
  },
  {
   "cell_type": "code",
   "execution_count": 6,
   "id": "9d2d8f0d",
   "metadata": {},
   "outputs": [
    {
     "data": {
      "text/plain": [
       "array(['domestic-worker', 'labour-inspection', 'labour-disputes',\n",
       "       'establishments', 'fees-and-guarantees', 'grievances',\n",
       "       'alternative-end-of-service-benefits-system',\n",
       "       'occupational-health-and-safety-and-labour-accommodation',\n",
       "       'training-and-employment-of-students',\n",
       "       'private-employment-agencies', 'wage-protection',\n",
       "       'workpermit-and-contract', 'emiratisation', 'mohre-services',\n",
       "       'uae-jobs', 'mohre-faq', 'uae-visa-emirates-id',\n",
       "       'uae-passport-travel'], dtype=object)"
      ]
     },
     "execution_count": 6,
     "metadata": {},
     "output_type": "execute_result"
    }
   ],
   "source": [
    "df[\"category\"].unique()"
   ]
  },
  {
   "cell_type": "code",
   "execution_count": null,
   "id": "854b9bbd",
   "metadata": {},
   "outputs": [],
   "source": [
    "client = chromadb.PersistentClient(path=\"./chroma_store\")\n",
    "collection_name=\"wr-uae\"\n",
    "collection = client.get_or_create_collection(collection_name)\n",
    "embed_model = OllamaEmbeddings(model=\"nomic-embed-text:v1.5\")\n",
    "\n",
    "\n",
    "vector_store = Chroma(\n",
    "    collection_name=collection_name,\n",
    "    embedding_function=embed_model,\n",
    "    client=client\n",
    ")"
   ]
  },
  {
   "cell_type": "code",
   "execution_count": null,
   "id": "def98055",
   "metadata": {},
   "outputs": [],
   "source": [
    "Category = Literal[\n",
    "    \"domestic-worker\", \"labour-inspection\", \"labour-disputes\", \"establishments\",\n",
    "    \"fees-and-guarantees\", \"grievances\", \"alternative-end-of-service-benefits-system\",\n",
    "    \"occupational-health-and-safety-and-labour-accommodation\",\n",
    "    \"training-and-employment-of-students\", \"private-employment-agencies\",\n",
    "    \"wage-protection\", \"workpermit-and-contract\", \"emiratisation\", \"mohre-services\",\n",
    "    \"uae-jobs\", \"mohre-faq\", \"uae-visa-emirates-id\", \"uae-passport-travel\"\n",
    "]\n",
    "\n",
    "class FindRelevantArgs(BaseModel):\n",
    "    query: str = Field(..., description=\"User query to search for semantically similar documents.\")\n",
    "    category: Optional[Category] = Field(\n",
    "        None,\n",
    "        description=\"Optional category filter; limits results to this category.\"\n",
    "    )\n",
    "    k: int = Field(\n",
    "        5,\n",
    "        ge=1, le=20,\n",
    "        description=\"Number of top results to return (defaults to 5; max 20).\"\n",
    "    )\n",
    "    \n",
    "def cut(text: str, max_chars: int = 1200) -> str:\n",
    "    if len(text) <= max_chars:\n",
    "        return text\n",
    "    return text[:max_chars] + \" …[truncated]\"\n",
    "\n",
    "@tool(\"find_relevant\", args_schema=FindRelevantArgs)\n",
    "def find_relevant(query: str, category: str | None = None, k: int = 5) -> str:\n",
    "    \"\"\"Search the vector store and return a compact RESULTS list plus a CONTEXT block.\"\"\"\n",
    "    filt = {\"category\": category} if category else None\n",
    "    hits = vector_store.similarity_search(query, k=k, filter=filt)\n",
    "\n",
    "    lines = []\n",
    "    ctx = []\n",
    "    for i, d in enumerate(hits, 1):\n",
    "        cat = (d.metadata or {}).get(\"category\", \"unknown\")\n",
    "        doc_id = (d.metadata or {}).get(\"id\", d.id)\n",
    "        lines.append(f\"[{i}] id={doc_id} category={cat}\")\n",
    "        ctx.append(f\"[{i}] {cut(d.page_content)}\")\n",
    "\n",
    "    return \"RESULTS:\\n\" + \"\\n\".join(lines) + \"\\n\\nCONTEXT:\\n\" + \"\\n\\n---\\n\\n\".join(ctx)\n",
    "\n",
    "\n",
    "class GetFullArgs(BaseModel):\n",
    "    doc_id: str = Field(..., description=\"Document ID to fetch the full, untruncated text for.\")\n",
    "\n",
    "@tool(\"get_full\", args_schema=GetFullArgs)\n",
    "def get_full(doc_id: str) -> str:\n",
    "    \"\"\"Fetch the full text of a single document by its ID from the vector store.\"\"\"\n",
    "    try:\n",
    "        docs = vector_store.get_by_ids([doc_id])\n",
    "        return docs[0].page_content if docs else f\"Not found: {doc_id}\"\n",
    "    except Exception as e:\n",
    "        return f\"Error fetching {doc_id}: {e}\""
   ]
  },
  {
   "cell_type": "code",
   "execution_count": null,
   "id": "02e204e9",
   "metadata": {},
   "outputs": [],
   "source": []
  },
  {
   "cell_type": "code",
   "execution_count": null,
   "id": "f65f8069",
   "metadata": {},
   "outputs": [],
   "source": []
  },
  {
   "cell_type": "code",
   "execution_count": null,
   "id": "a339df8e",
   "metadata": {},
   "outputs": [],
   "source": []
  },
  {
   "cell_type": "code",
   "execution_count": null,
   "id": "36a300c2",
   "metadata": {},
   "outputs": [],
   "source": []
  },
  {
   "cell_type": "code",
   "execution_count": null,
   "id": "bd995e3c",
   "metadata": {},
   "outputs": [],
   "source": []
  },
  {
   "cell_type": "code",
   "execution_count": null,
   "id": "b262765b",
   "metadata": {},
   "outputs": [],
   "source": []
  }
 ],
 "metadata": {
  "kernelspec": {
   "display_name": "work-right-uae-dpo",
   "language": "python",
   "name": "python3"
  },
  "language_info": {
   "codemirror_mode": {
    "name": "ipython",
    "version": 3
   },
   "file_extension": ".py",
   "mimetype": "text/x-python",
   "name": "python",
   "nbconvert_exporter": "python",
   "pygments_lexer": "ipython3",
   "version": "3.12.11"
  }
 },
 "nbformat": 4,
 "nbformat_minor": 5
}
